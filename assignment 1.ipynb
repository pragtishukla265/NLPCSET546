{
  "nbformat": 4,
  "nbformat_minor": 0,
  "metadata": {
    "colab": {
      "provenance": [],
      "authorship_tag": "ABX9TyO1OKJs38Ht1/dfZwA/AtOi",
      "include_colab_link": true
    },
    "kernelspec": {
      "name": "python3",
      "display_name": "Python 3"
    },
    "language_info": {
      "name": "python"
    }
  },
  "cells": [
    {
      "cell_type": "markdown",
      "metadata": {
        "id": "view-in-github",
        "colab_type": "text"
      },
      "source": [
        "<a href=\"https://colab.research.google.com/github/pragtishukla265/NLPCSET546/blob/main/assignment%201.ipynb\" target=\"_parent\"><img src=\"https://colab.research.google.com/assets/colab-badge.svg\" alt=\"Open In Colab\"/></a>"
      ]
    },
    {
      "cell_type": "code",
      "execution_count": 1,
      "metadata": {
        "colab": {
          "base_uri": "https://localhost:8080/"
        },
        "id": "gLRCI4UI0SXo",
        "outputId": "87474a9d-cc8d-4c82-8342-7bea007bae0b"
      },
      "outputs": [
        {
          "output_type": "stream",
          "name": "stdout",
          "text": [
            "['iitbhu.ac.in']\n"
          ]
        }
      ],
      "source": [
        "import re\n",
        "def find_domain():\n",
        "    sentence = \"Visit our portal at https://www.iitbhu.ac.in for details.\"\n",
        "    result = re.findall(r'https?://(?:www\\.)?([a-zA-Z0-9.-]+\\.[a-zA-Z]{2,})', sentence)\n",
        "    print(result)\n",
        "\n",
        "\n",
        "find_domain()"
      ]
    },
    {
      "cell_type": "code",
      "source": [
        "import re\n",
        "def extract_gmail_yahoo(text):\n",
        "    pattern = r'[a-zA-Z0-9._%+-]+@(?:gmail|yahoo)\\.com'\n",
        "    return re.findall(pattern, text)\n",
        "\n",
        "text = \"Send updates to abc123@yahoo.com and x.y.z@gmail.com\"\n",
        "emails = extract_gmail_yahoo(text)\n",
        "print(emails)"
      ],
      "metadata": {
        "colab": {
          "base_uri": "https://localhost:8080/"
        },
        "id": "LL8Eyb8A0Zt0",
        "outputId": "acaaf558-2e42-4c31-d0db-5b8814c5e844"
      },
      "execution_count": 2,
      "outputs": [
        {
          "output_type": "stream",
          "name": "stdout",
          "text": [
            "['abc123@yahoo.com', 'x.y.z@gmail.com']\n"
          ]
        }
      ]
    },
    {
      "cell_type": "code",
      "source": [
        "import re\n",
        "def find_special_hashtags(text):\n",
        "    pattern = r'#\\w*(?:\\d|_)\\w*'\n",
        "    return re.findall(pattern, text)\n",
        "\n",
        "text = \"Today's highlights: #IndvsPak_2025 #Go_India #Cricket123 #Cricket\"\n",
        "hashtags = find_special_hashtags(text)\n",
        "print(hashtags)"
      ],
      "metadata": {
        "colab": {
          "base_uri": "https://localhost:8080/"
        },
        "id": "b-6Q2smZ0bqu",
        "outputId": "643118e7-3d8d-4795-f7a7-fcadd823074f"
      },
      "execution_count": 3,
      "outputs": [
        {
          "output_type": "stream",
          "name": "stdout",
          "text": [
            "['#IndvsPak_2025', '#Go_India', '#Cricket123']\n"
          ]
        }
      ]
    },
    {
      "cell_type": "code",
      "source": [
        "import re\n",
        "def extract_mentions(text):\n",
        "    pattern = r'@[A-Za-z0-9_]+'\n",
        "    return re.findall(pattern, text)\n",
        "\n",
        "text = \"@dr_singh! you were amazing @Minister@India\"\n",
        "mentions = extract_mentions(text)\n",
        "print(mentions)"
      ],
      "metadata": {
        "colab": {
          "base_uri": "https://localhost:8080/"
        },
        "id": "fuxy-o4E0o6H",
        "outputId": "8b6e0e59-8688-4b9b-9704-e5674d3e5c14"
      },
      "execution_count": 4,
      "outputs": [
        {
          "output_type": "stream",
          "name": "stdout",
          "text": [
            "['@dr_singh', '@Minister', '@India']\n"
          ]
        }
      ]
    },
    {
      "cell_type": "code",
      "source": [
        "import re\n",
        "def extract_numbers(text):\n",
        "    pattern = r'\\d+(?:\\.\\d+)?'\n",
        "    return re.findall(pattern, text)\n",
        "\n",
        "text = \"The price increased from 45.60 to 99.99 in 3 days\"\n",
        "numbers = extract_numbers(text)\n",
        "print(numbers)"
      ],
      "metadata": {
        "colab": {
          "base_uri": "https://localhost:8080/"
        },
        "id": "q2w_9yUv0sUG",
        "outputId": "6f5ac413-93c6-43ad-a9f4-53553e3b4461"
      },
      "execution_count": 5,
      "outputs": [
        {
          "output_type": "stream",
          "name": "stdout",
          "text": [
            "['45.60', '99.99', '3']\n"
          ]
        }
      ]
    },
    {
      "cell_type": "code",
      "source": [
        "import re\n",
        "def validate_vehicle_number(number):\n",
        "    pattern = r'^[A-Z]{2}\\d{2}[A-Z]{2}\\d{4}$'\n",
        "    return bool(re.match(pattern, number))\n",
        "\n",
        "print(validate_vehicle_number(\"UP32GH1234\"))\n",
        "print(validate_vehicle_number(\"up32gh1234\"))"
      ],
      "metadata": {
        "colab": {
          "base_uri": "https://localhost:8080/"
        },
        "id": "B7LcgeiE04ds",
        "outputId": "2588e02e-af38-455a-e33c-9dee70b9c5ec"
      },
      "execution_count": 6,
      "outputs": [
        {
          "output_type": "stream",
          "name": "stdout",
          "text": [
            "True\n",
            "False\n"
          ]
        }
      ]
    },
    {
      "cell_type": "code",
      "source": [
        "import re\n",
        "def normalize_text(text):\n",
        "    return re.sub(r'(.)\\1+', r'\\1', text)\n",
        "\n",
        "text = \"Ammmaaazing wooorrrkkk!!!\"\n",
        "print(normalize_text(text))"
      ],
      "metadata": {
        "colab": {
          "base_uri": "https://localhost:8080/"
        },
        "id": "oa96WFn408VV",
        "outputId": "93daeeba-b318-4d82-ef6a-9794804e4f8b"
      },
      "execution_count": 7,
      "outputs": [
        {
          "output_type": "stream",
          "name": "stdout",
          "text": [
            "Amazing work!\n"
          ]
        }
      ]
    },
    {
      "cell_type": "code",
      "source": [
        "import re\n",
        "def find_mobile_numbers(text):\n",
        "    pattern = r'(?:\\+91|0)[6-9]\\d{9}'\n",
        "    return re.findall(pattern, text)\n",
        "\n",
        "text = \"Call me at +919990001234 or 09990004567\"\n",
        "print(find_mobile_numbers(text))"
      ],
      "metadata": {
        "colab": {
          "base_uri": "https://localhost:8080/"
        },
        "id": "2qRqBvgZ1A2q",
        "outputId": "ea2692f0-b2bd-4430-99d1-f52aaadc3cea"
      },
      "execution_count": 8,
      "outputs": [
        {
          "output_type": "stream",
          "name": "stdout",
          "text": [
            "['+919990001234', '09990004567']\n"
          ]
        }
      ]
    },
    {
      "cell_type": "code",
      "source": [
        "import re\n",
        "def extract_proper_nouns(text):\n",
        "    pattern = r'(?<!\\. )\\b[A-Z][a-z]+\\b'\n",
        "    return re.findall(pattern, text)\n",
        "\n",
        "text = \"Delhi is the capital of India. Narendra Modi is the Prime Minister.\"\n",
        "print(extract_proper_nouns(text))"
      ],
      "metadata": {
        "colab": {
          "base_uri": "https://localhost:8080/"
        },
        "id": "KxlaGv8p1EVU",
        "outputId": "114aff05-f055-4ecf-c73d-36cbb4aee8c4"
      },
      "execution_count": 9,
      "outputs": [
        {
          "output_type": "stream",
          "name": "stdout",
          "text": [
            "['Delhi', 'India', 'Modi', 'Prime', 'Minister']\n"
          ]
        }
      ]
    }
  ]
}