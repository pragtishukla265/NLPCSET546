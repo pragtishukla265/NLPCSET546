{
  "nbformat": 4,
  "nbformat_minor": 0,
  "metadata": {
    "colab": {
      "provenance": [],
      "authorship_tag": "ABX9TyMuxery4LzXcQHx57srE51n",
      "include_colab_link": true
    },
    "kernelspec": {
      "name": "python3",
      "display_name": "Python 3"
    },
    "language_info": {
      "name": "python"
    }
  },
  "cells": [
    {
      "cell_type": "markdown",
      "metadata": {
        "id": "view-in-github",
        "colab_type": "text"
      },
      "source": [
        "<a href=\"https://colab.research.google.com/github/pragtishukla265/NLPCSET546/blob/main/Assignment%202.ipynb\" target=\"_parent\"><img src=\"https://colab.research.google.com/assets/colab-badge.svg\" alt=\"Open In Colab\"/></a>"
      ]
    },
    {
      "cell_type": "code",
      "execution_count": 1,
      "metadata": {
        "colab": {
          "base_uri": "https://localhost:8080/"
        },
        "id": "OaKI2LKP3fMp",
        "outputId": "005781b7-dee9-4ea7-8837-ebaa5266d9de"
      },
      "outputs": [
        {
          "output_type": "stream",
          "name": "stdout",
          "text": [
            "Cleaned paragraph:\n",
            "omg! i cant believe i found this awesome article about ai  machine leanring! it was soo good lol. i love nlp butt i hate spelng errors in textt. this is gonna be a loong paragraph with loots of spacess and weirdd symbols . the websites link is ww.example.com check it out asap! excited\n"
          ]
        }
      ],
      "source": [
        "import re\n",
        "text = \"\"\"OMG!! I can't believe I found this aWesoMe article about AI & machine leanring!!\n",
        "It was soooo gooood lol. I <3 nlp butttt i hate spelng errors in textttt.\n",
        "This is gonna be a looong paragraph with looooots of spacesss and weirddddd symbols @#$%.\n",
        "The website's link is www.example.com//// Check it out ASAP!!! #excited\"\"\"\n",
        "text = text.lower()\n",
        "text = re.sub(r'\\s+', ' ', text)\n",
        "text = text.replace(\"<3\", \"love\")\n",
        "text = re.sub(r'[^a-z0-9\\s\\.\\,\\!\\?]',\n",
        "''\n",
        ", text)\n",
        "text = re.sub(r'(.)\\1{2,}', r'\\1\\1', text)\n",
        "text = re.sub(r'!{2,}', '!', text)\n",
        "text = re.sub(r'\\?{2,}', '?', text)\n",
        "text = re.sub(r'http\\S+|www\\.\\S+',\n",
        "''\n",
        ", text)\n",
        "print(\"Cleaned paragraph:\")\n",
        "print(text.strip())"
      ]
    }
  ]
}